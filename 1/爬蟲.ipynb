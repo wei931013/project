{
 "cells": [
  {
   "cell_type": "code",
   "execution_count": 5,
   "metadata": {},
   "outputs": [
    {
     "name": "stdout",
     "output_type": "stream",
     "text": [
      "Target image has been downloaded.\n"
     ]
    }
   ],
   "source": [
    "#專題影片連結:https://drive.google.com/file/d/1F83MKeryPWoXlwOGSGpdfAhqbaBKniJd/view?usp=drivesdk\n",
    "\n",
    "from selenium import webdriver\n",
    "from selenium.webdriver.edge.service import Service\n",
    "from webdriver_manager.microsoft import EdgeChromiumDriverManager\n",
    "from selenium.webdriver.common.by import By\n",
    "import time\n",
    "import os\n",
    "\n",
    "def download_image(image_url):\n",
    "    # 配置 Edge 瀏覽器的下載行為\n",
    "    options = webdriver.EdgeOptions()\n",
    "    prefs = {'download.default_directory': os.getcwd()}\n",
    "    options.add_experimental_option('prefs', prefs)\n",
    "\n",
    "    # 使用 Edge 瀏覽器\n",
    "    driver = webdriver.Edge(service=Service(EdgeChromiumDriverManager().install()), options=options)\n",
    "    driver.get(image_url)\n",
    "\n",
    "    # 確保頁面加載完畢\n",
    "    time.sleep(3)\n",
    "    \n",
    "    # 找到並點擊 Options Menu\n",
    "    try:\n",
    "        button = driver.find_element(By.CLASS_NAME, \"Gallery-Options\")\n",
    "        button.click()\n",
    "\n",
    "        # 等待下載選項顯示\n",
    "        time.sleep(1)\n",
    "\n",
    "        # 點擊包含文本 \"Download\" 的 span 元素\n",
    "        download_button = driver.find_element(By.XPATH, \"//span[text()='Download']\")\n",
    "        download_button.click()\n",
    "\n",
    "        # 等待下載完成\n",
    "        time.sleep(5)\n",
    "    except Exception as e:\n",
    "        print(f\"An error occurred: {e}\")\n",
    "    finally:\n",
    "        driver.quit()\n",
    "        print('Target image has been downloaded.')\n",
    "\n",
    "if __name__ == \"__main__\":\n",
    "    url = 'https://imgur.com/m9DDygS'\n",
    "    download_image(url)\n"
   ]
  }
 ],
 "metadata": {
  "kernelspec": {
   "display_name": "Python 3",
   "language": "python",
   "name": "python3"
  },
  "language_info": {
   "codemirror_mode": {
    "name": "ipython",
    "version": 3
   },
   "file_extension": ".py",
   "mimetype": "text/x-python",
   "name": "python",
   "nbconvert_exporter": "python",
   "pygments_lexer": "ipython3",
   "version": "3.12.4"
  }
 },
 "nbformat": 4,
 "nbformat_minor": 2
}
